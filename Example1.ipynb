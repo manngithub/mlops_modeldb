{
 "cells": [
  {
   "cell_type": "markdown",
   "metadata": {},
   "source": [
    "## ModelDB usecase: Logging and Querying Model Metadata\n",
    "This example features:\n",
    "\n",
    "* Tensorflow's Keras API for building neural networks\n",
    "* verta's Python client logging observations and artifacts during validation\n",
    "* verta's Python client retrieving the loss/accuracy plot and the trained model from the validation process\n",
    "\n",
    "Follow the steps in this [repo](https://github.com/VertaAI/modeldb) to setup the environment.\n",
    "\n",
    "### Imports"
   ]
  },
  {
   "cell_type": "code",
   "execution_count": null,
   "metadata": {},
   "outputs": [],
   "source": [
    "import numpy as np\n",
    "import pandas as pd\n",
    "import matplotlib.pyplot as plt\n",
    "%matplotlib inline\n",
    "\n",
    "import itertools\n",
    "import time\n",
    "import six\n",
    "from sklearn import datasets\n",
    "\n",
    "import tensorflow as tf\n",
    "from tensorflow import keras\n",
    "\n",
    "import warnings\n",
    "warnings.filterwarnings(\"ignore\", category=FutureWarning)"
   ]
  },
  {
   "cell_type": "code",
   "execution_count": 2,
   "metadata": {},
   "outputs": [
    {
     "name": "stdout",
     "output_type": "stream",
     "text": [
      "connection successfully established\n"
     ]
    }
   ],
   "source": [
    "from verta import Client\n",
    "client = Client(\"http://localhost:3000\")"
   ]
  },
  {
   "cell_type": "markdown",
   "metadata": {},
   "source": [
    "#### Start - Project, Experiment, Experiment Run"
   ]
  },
  {
   "cell_type": "code",
   "execution_count": 3,
   "metadata": {},
   "outputs": [
    {
     "name": "stdout",
     "output_type": "stream",
     "text": [
      "set existing Project: Digit Classification from personal workspace\n",
      "set existing Experiment: Neural Network Model\n",
      "set existing ExperimentRun: Second Run\n"
     ]
    }
   ],
   "source": [
    "proj = client.set_project(\"Digit Classification\")\n",
    "expt = client.set_experiment(\"Neural Network Model\")\n",
    "run = client.set_experiment_run(\"Second Run\")"
   ]
  },
  {
   "cell_type": "markdown",
   "metadata": {},
   "source": [
    "### Data Science Model Development\n",
    "#### Import Data"
   ]
  },
  {
   "cell_type": "code",
   "execution_count": 4,
   "metadata": {},
   "outputs": [],
   "source": [
    "data = datasets.load_digits()\n",
    "X = data['data']\n",
    "y = data['target']"
   ]
  },
  {
   "cell_type": "code",
   "execution_count": 5,
   "metadata": {},
   "outputs": [
    {
     "data": {
      "text/html": [
       "<div>\n",
       "<style scoped>\n",
       "    .dataframe tbody tr th:only-of-type {\n",
       "        vertical-align: middle;\n",
       "    }\n",
       "\n",
       "    .dataframe tbody tr th {\n",
       "        vertical-align: top;\n",
       "    }\n",
       "\n",
       "    .dataframe thead th {\n",
       "        text-align: right;\n",
       "    }\n",
       "</style>\n",
       "<table border=\"1\" class=\"dataframe\">\n",
       "  <thead>\n",
       "    <tr style=\"text-align: right;\">\n",
       "      <th></th>\n",
       "      <th>pixel_0</th>\n",
       "      <th>pixel_1</th>\n",
       "      <th>pixel_2</th>\n",
       "      <th>pixel_3</th>\n",
       "      <th>pixel_4</th>\n",
       "      <th>pixel_5</th>\n",
       "      <th>pixel_6</th>\n",
       "      <th>pixel_7</th>\n",
       "      <th>pixel_8</th>\n",
       "      <th>pixel_9</th>\n",
       "      <th>...</th>\n",
       "      <th>pixel_55</th>\n",
       "      <th>pixel_56</th>\n",
       "      <th>pixel_57</th>\n",
       "      <th>pixel_58</th>\n",
       "      <th>pixel_59</th>\n",
       "      <th>pixel_60</th>\n",
       "      <th>pixel_61</th>\n",
       "      <th>pixel_62</th>\n",
       "      <th>pixel_63</th>\n",
       "      <th>digit</th>\n",
       "    </tr>\n",
       "  </thead>\n",
       "  <tbody>\n",
       "    <tr>\n",
       "      <td>0</td>\n",
       "      <td>0.0</td>\n",
       "      <td>0.0</td>\n",
       "      <td>5.0</td>\n",
       "      <td>13.0</td>\n",
       "      <td>9.0</td>\n",
       "      <td>1.0</td>\n",
       "      <td>0.0</td>\n",
       "      <td>0.0</td>\n",
       "      <td>0.0</td>\n",
       "      <td>0.0</td>\n",
       "      <td>...</td>\n",
       "      <td>0.0</td>\n",
       "      <td>0.0</td>\n",
       "      <td>0.0</td>\n",
       "      <td>6.0</td>\n",
       "      <td>13.0</td>\n",
       "      <td>10.0</td>\n",
       "      <td>0.0</td>\n",
       "      <td>0.0</td>\n",
       "      <td>0.0</td>\n",
       "      <td>0.0</td>\n",
       "    </tr>\n",
       "    <tr>\n",
       "      <td>1</td>\n",
       "      <td>0.0</td>\n",
       "      <td>0.0</td>\n",
       "      <td>0.0</td>\n",
       "      <td>12.0</td>\n",
       "      <td>13.0</td>\n",
       "      <td>5.0</td>\n",
       "      <td>0.0</td>\n",
       "      <td>0.0</td>\n",
       "      <td>0.0</td>\n",
       "      <td>0.0</td>\n",
       "      <td>...</td>\n",
       "      <td>0.0</td>\n",
       "      <td>0.0</td>\n",
       "      <td>0.0</td>\n",
       "      <td>0.0</td>\n",
       "      <td>11.0</td>\n",
       "      <td>16.0</td>\n",
       "      <td>10.0</td>\n",
       "      <td>0.0</td>\n",
       "      <td>0.0</td>\n",
       "      <td>1.0</td>\n",
       "    </tr>\n",
       "    <tr>\n",
       "      <td>2</td>\n",
       "      <td>0.0</td>\n",
       "      <td>0.0</td>\n",
       "      <td>0.0</td>\n",
       "      <td>4.0</td>\n",
       "      <td>15.0</td>\n",
       "      <td>12.0</td>\n",
       "      <td>0.0</td>\n",
       "      <td>0.0</td>\n",
       "      <td>0.0</td>\n",
       "      <td>0.0</td>\n",
       "      <td>...</td>\n",
       "      <td>0.0</td>\n",
       "      <td>0.0</td>\n",
       "      <td>0.0</td>\n",
       "      <td>0.0</td>\n",
       "      <td>3.0</td>\n",
       "      <td>11.0</td>\n",
       "      <td>16.0</td>\n",
       "      <td>9.0</td>\n",
       "      <td>0.0</td>\n",
       "      <td>2.0</td>\n",
       "    </tr>\n",
       "    <tr>\n",
       "      <td>3</td>\n",
       "      <td>0.0</td>\n",
       "      <td>0.0</td>\n",
       "      <td>7.0</td>\n",
       "      <td>15.0</td>\n",
       "      <td>13.0</td>\n",
       "      <td>1.0</td>\n",
       "      <td>0.0</td>\n",
       "      <td>0.0</td>\n",
       "      <td>0.0</td>\n",
       "      <td>8.0</td>\n",
       "      <td>...</td>\n",
       "      <td>0.0</td>\n",
       "      <td>0.0</td>\n",
       "      <td>0.0</td>\n",
       "      <td>7.0</td>\n",
       "      <td>13.0</td>\n",
       "      <td>13.0</td>\n",
       "      <td>9.0</td>\n",
       "      <td>0.0</td>\n",
       "      <td>0.0</td>\n",
       "      <td>3.0</td>\n",
       "    </tr>\n",
       "    <tr>\n",
       "      <td>4</td>\n",
       "      <td>0.0</td>\n",
       "      <td>0.0</td>\n",
       "      <td>0.0</td>\n",
       "      <td>1.0</td>\n",
       "      <td>11.0</td>\n",
       "      <td>0.0</td>\n",
       "      <td>0.0</td>\n",
       "      <td>0.0</td>\n",
       "      <td>0.0</td>\n",
       "      <td>0.0</td>\n",
       "      <td>...</td>\n",
       "      <td>0.0</td>\n",
       "      <td>0.0</td>\n",
       "      <td>0.0</td>\n",
       "      <td>0.0</td>\n",
       "      <td>2.0</td>\n",
       "      <td>16.0</td>\n",
       "      <td>4.0</td>\n",
       "      <td>0.0</td>\n",
       "      <td>0.0</td>\n",
       "      <td>4.0</td>\n",
       "    </tr>\n",
       "  </tbody>\n",
       "</table>\n",
       "<p>5 rows × 65 columns</p>\n",
       "</div>"
      ],
      "text/plain": [
       "   pixel_0  pixel_1  pixel_2  pixel_3  pixel_4  pixel_5  pixel_6  pixel_7  \\\n",
       "0      0.0      0.0      5.0     13.0      9.0      1.0      0.0      0.0   \n",
       "1      0.0      0.0      0.0     12.0     13.0      5.0      0.0      0.0   \n",
       "2      0.0      0.0      0.0      4.0     15.0     12.0      0.0      0.0   \n",
       "3      0.0      0.0      7.0     15.0     13.0      1.0      0.0      0.0   \n",
       "4      0.0      0.0      0.0      1.0     11.0      0.0      0.0      0.0   \n",
       "\n",
       "   pixel_8  pixel_9  ...  pixel_55  pixel_56  pixel_57  pixel_58  pixel_59  \\\n",
       "0      0.0      0.0  ...       0.0       0.0       0.0       6.0      13.0   \n",
       "1      0.0      0.0  ...       0.0       0.0       0.0       0.0      11.0   \n",
       "2      0.0      0.0  ...       0.0       0.0       0.0       0.0       3.0   \n",
       "3      0.0      8.0  ...       0.0       0.0       0.0       7.0      13.0   \n",
       "4      0.0      0.0  ...       0.0       0.0       0.0       0.0       2.0   \n",
       "\n",
       "   pixel_60  pixel_61  pixel_62  pixel_63  digit  \n",
       "0      10.0       0.0       0.0       0.0    0.0  \n",
       "1      16.0      10.0       0.0       0.0    1.0  \n",
       "2      11.0      16.0       9.0       0.0    2.0  \n",
       "3      13.0       9.0       0.0       0.0    3.0  \n",
       "4      16.0       4.0       0.0       0.0    4.0  \n",
       "\n",
       "[5 rows x 65 columns]"
      ]
     },
     "execution_count": 5,
     "metadata": {},
     "output_type": "execute_result"
    }
   ],
   "source": [
    "df = pd.DataFrame(np.hstack((X, y.reshape(-1, 1))),\n",
    "                  columns=[\"pixel_{}\".format(i) for i in range(X.shape[-1])] + ['digit'])\n",
    "\n",
    "df.head()"
   ]
  },
  {
   "cell_type": "code",
   "execution_count": 6,
   "metadata": {},
   "outputs": [
    {
     "data": {
      "text/plain": [
       "<Figure size 432x288 with 0 Axes>"
      ]
     },
     "metadata": {},
     "output_type": "display_data"
    },
    {
     "data": {
      "image/png": "[encoded data removed]",
      "text/plain": [
       "<Figure size 288x288 with 1 Axes>"
      ]
     },
     "metadata": {
      "needs_background": "light"
     },
     "output_type": "display_data"
    }
   ],
   "source": [
    "plt.gray()\n",
    "plt.matshow(data.images[1300])\n",
    "plt.show()"
   ]
  },
  {
   "cell_type": "code",
   "execution_count": 7,
   "metadata": {},
   "outputs": [
    {
     "name": "stdout",
     "output_type": "stream",
     "text": [
      "upload complete (train_data.pkl)\n"
     ]
    }
   ],
   "source": [
    "# log data\n",
    "run.log_dataset(\"train_data\", df, overwrite=True) # overwrite if artifact already exist"
   ]
  },
  {
   "cell_type": "markdown",
   "metadata": {},
   "source": [
    "#### Hyperparameters"
   ]
  },
  {
   "cell_type": "code",
   "execution_count": null,
   "metadata": {},
   "outputs": [],
   "source": [
    "hyperparams = {\n",
    "    'hidden_size': 256,\n",
    "    'dropout': 0.2,\n",
    "    'batch_size': 1024,\n",
    "    'num_epochs': 10,\n",
    "    'optimizer': \"adam\",\n",
    "    'loss': \"sparse_categorical_crossentropy\",\n",
    "    'validation_split': 0.1,\n",
    "}\n",
    "# log the hyperparameters\n",
    "run.log_hyperparameters(hyperparams)\n",
    "# if these hyperparams already exist, you will get an error, there is no overwrite option"
   ]
  },
  {
   "cell_type": "markdown",
   "metadata": {},
   "source": [
    "#### NN Model"
   ]
  },
  {
   "cell_type": "code",
   "execution_count": 9,
   "metadata": {},
   "outputs": [
    {
     "name": "stdout",
     "output_type": "stream",
     "text": [
      "Model: \"sequential\"\n",
      "_________________________________________________________________\n",
      "Layer (type)                 Output Shape              Param #   \n",
      "=================================================================\n",
      "dense (Dense)                (None, 256)               16640     \n",
      "_________________________________________________________________\n",
      "dropout (Dropout)            (None, 256)               0         \n",
      "_________________________________________________________________\n",
      "dense_1 (Dense)              (None, 10)                2570      \n",
      "=================================================================\n",
      "Total params: 19,210\n",
      "Trainable params: 19,210\n",
      "Non-trainable params: 0\n",
      "_________________________________________________________________\n"
     ]
    }
   ],
   "source": [
    "model = keras.models.Sequential()\n",
    "#model.add(keras.layers.Flatten())\n",
    "model.add(keras.layers.Dense(hyperparams['hidden_size'], activation=tf.nn.relu, input_shape=(X.shape[1],)))\n",
    "model.add(keras.layers.Dropout(rate=hyperparams['dropout']))\n",
    "model.add(keras.layers.Dense(10, activation=tf.nn.softmax))\n",
    "\n",
    "model.compile(optimizer=hyperparams['optimizer'],\n",
    "              loss=hyperparams['loss'],\n",
    "              metrics=['accuracy'])\n",
    "model.summary()"
   ]
  },
  {
   "cell_type": "code",
   "execution_count": 10,
   "metadata": {},
   "outputs": [
    {
     "name": "stdout",
     "output_type": "stream",
     "text": [
      "Train on 1617 samples, validate on 180 samples\n",
      "Epoch 1/10\n",
      "1617/1617 [==============================] - 0s 233us/sample - loss: 8.2164 - accuracy: 0.0736 - val_loss: 5.3569 - val_accuracy: 0.0500\n",
      "Epoch 2/10\n",
      "1617/1617 [==============================] - 0s 148us/sample - loss: 5.8314 - accuracy: 0.0934 - val_loss: 3.8400 - val_accuracy: 0.1000\n",
      "Epoch 3/10\n",
      "1617/1617 [==============================] - 0s 105us/sample - loss: 4.5739 - accuracy: 0.1515 - val_loss: 2.8582 - val_accuracy: 0.2278\n",
      "Epoch 4/10\n",
      "1617/1617 [==============================] - 0s 221us/sample - loss: 3.5685 - accuracy: 0.2208 - val_loss: 2.3653 - val_accuracy: 0.3778\n",
      "Epoch 5/10\n",
      "1617/1617 [==============================] - 0s 252us/sample - loss: 3.0359 - accuracy: 0.3302 - val_loss: 1.9466 - val_accuracy: 0.4500\n",
      "Epoch 6/10\n",
      "1617/1617 [==============================] - 0s 174us/sample - loss: 2.4362 - accuracy: 0.4230 - val_loss: 1.4624 - val_accuracy: 0.5167\n",
      "Epoch 7/10\n",
      "1617/1617 [==============================] - 0s 95us/sample - loss: 1.8861 - accuracy: 0.5059 - val_loss: 1.0975 - val_accuracy: 0.6444\n",
      "Epoch 8/10\n",
      "1617/1617 [==============================] - 0s 103us/sample - loss: 1.3796 - accuracy: 0.6011 - val_loss: 0.9257 - val_accuracy: 0.7056\n",
      "Epoch 9/10\n",
      "1617/1617 [==============================] - 0s 93us/sample - loss: 1.1899 - accuracy: 0.6438 - val_loss: 0.8478 - val_accuracy: 0.6944\n",
      "Epoch 10/10\n",
      "1617/1617 [==============================] - 0s 86us/sample - loss: 1.0312 - accuracy: 0.6797 - val_loss: 0.7852 - val_accuracy: 0.7167\n"
     ]
    },
    {
     "data": {
      "text/plain": [
       "<tensorflow.python.keras.callbacks.History at 0x103bfc4d0>"
      ]
     },
     "execution_count": 10,
     "metadata": {},
     "output_type": "execute_result"
    }
   ],
   "source": [
    "def log_validation_callback(epoch, logs):  # Keras will call this each epoch\n",
    "    run.log_observation(\"train_loss\", float(logs['loss']))\n",
    "    run.log_observation(\"train_acc\", float(logs['accuracy']))\n",
    "    run.log_observation(\"val_loss\", float(logs['val_loss']))\n",
    "    run.log_observation(\"val_acc\", float(logs['val_accuracy']))\n",
    "    \n",
    "model.fit(X, y,\n",
    "          validation_split=hyperparams['validation_split'],\n",
    "          batch_size=hyperparams['batch_size'], epochs=hyperparams['num_epochs'],\n",
    "         callbacks=[keras.callbacks.LambdaCallback(on_epoch_end=log_validation_callback)])"
   ]
  },
  {
   "cell_type": "code",
   "execution_count": 11,
   "metadata": {},
   "outputs": [
    {
     "name": "stdout",
     "output_type": "stream",
     "text": [
      "upload complete (custom_modules.zip)\n",
      "upload complete (model.pkl.hdf5)\n",
      "upload complete (model_api.json)\n"
     ]
    }
   ],
   "source": [
    "# log model\n",
    "run.log_model(model)"
   ]
  },
  {
   "cell_type": "markdown",
   "metadata": {},
   "source": [
    "#### Create and Store Plot of Training Observations"
   ]
  },
  {
   "cell_type": "code",
   "execution_count": 12,
   "metadata": {},
   "outputs": [
    {
     "name": "stdout",
     "output_type": "stream",
     "text": [
      "upload complete (validation_plot.png)\n"
     ]
    },
    {
     "data": {
      "image/png": "[encoded data removed]",
      "text/plain": [
       "<Figure size 432x288 with 1 Axes>"
      ]
     },
     "metadata": {
      "needs_background": "light"
     },
     "output_type": "display_data"
    }
   ],
   "source": [
    "plt.plot([obs[0] for obs in run.get_observation(\"val_acc\")], label=\"val\")\n",
    "plt.plot([obs[0] for obs in run.get_observation(\"train_acc\")], label=\"train\")\n",
    "plt.ylim(0, 1)\n",
    "plt.xlabel(\"epoch\")\n",
    "plt.ylabel(\"accuracy\")\n",
    "plt.legend(loc='best')\n",
    "run.log_image(\"validation_plot\", plt)\n",
    "plt.show()"
   ]
  },
  {
   "cell_type": "markdown",
   "metadata": {},
   "source": [
    "### Revisit Workflow\n",
    "\n",
    "#### Accuracy plot"
   ]
  },
  {
   "cell_type": "code",
   "execution_count": 13,
   "metadata": {},
   "outputs": [
    {
     "data": {
      "image/png": "[encoded data removed]",
      "text/plain": [
       "<PIL.PngImagePlugin.PngImageFile image mode=RGBA size=432x288 at 0x1137A9C90>"
      ]
     },
     "execution_count": 13,
     "metadata": {},
     "output_type": "execute_result"
    }
   ],
   "source": [
    "run.get_image(\"validation_plot\")"
   ]
  },
  {
   "cell_type": "markdown",
   "metadata": {},
   "source": [
    "#### Retrieve model"
   ]
  },
  {
   "cell_type": "code",
   "execution_count": 14,
   "metadata": {},
   "outputs": [],
   "source": [
    "model = run.get_model()"
   ]
  },
  {
   "cell_type": "markdown",
   "metadata": {},
   "source": [
    "#### Calculate and Log Accuracy on Full Training Set"
   ]
  },
  {
   "cell_type": "code",
   "execution_count": 15,
   "metadata": {},
   "outputs": [
    {
     "name": "stdout",
     "output_type": "stream",
     "text": [
      "1797/1797 [==============================] - 0s 43us/sample - loss: 0.4762 - accuracy: 0.8347\n"
     ]
    }
   ],
   "source": [
    "train_loss, train_acc = model.evaluate(X, y)\n",
    "run.log_metric(\"train_loss\", train_loss)\n",
    "run.log_metric(\"train_acc\", train_acc)"
   ]
  },
  {
   "cell_type": "code",
   "execution_count": null,
   "metadata": {},
   "outputs": [],
   "source": []
  }
 ],
 "metadata": {
  "kernelspec": {
   "display_name": "Python 3",
   "language": "python",
   "name": "python3"
  },
  "language_info": {
   "codemirror_mode": {
    "name": "ipython",
    "version": 3
   },
   "file_extension": ".py",
   "mimetype": "text/x-python",
   "name": "python",
   "nbconvert_exporter": "python",
   "pygments_lexer": "ipython3",
   "version": "3.7.4"
  }
 },
 "nbformat": 4,
 "nbformat_minor": 4
}
